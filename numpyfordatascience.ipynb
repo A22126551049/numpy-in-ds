{
  "cells": [
    {
      "cell_type": "markdown",
      "metadata": {
        "id": "mbqLrGGleS_Y"
      },
      "source": [
        "# Detailed Introduction to NumPy for Data Science\n",
        "\n",
        "NumPy (Numerical Python) is the foundational package for numerical computing in Python. It offers powerful data structures like arrays and matrices, and a variety of functions to perform operations on these structures efficiently. Understanding NumPy is crucial for data science, as it forms the basis of many other libraries like pandas, scikit-learn, and TensorFlow."
      ],
      "id": "mbqLrGGleS_Y"
    },
    {
      "cell_type": "markdown",
      "metadata": {
        "id": "iRTDs06PeS_Z"
      },
      "source": [
        "## 1. Importing NumPy\n",
        "\n",
        "We start by importing the NumPy library. It is standard practice to import NumPy as `np` to keep your code concise and clear."
      ],
      "id": "iRTDs06PeS_Z"
    },
    {
      "cell_type": "code",
      "execution_count": 1,
      "metadata": {
        "id": "lF8qwLJ3eS_Z"
      },
      "outputs": [],
      "source": [
        "import numpy as np"
      ],
      "id": "lF8qwLJ3eS_Z"
    },
    {
      "cell_type": "markdown",
      "metadata": {
        "id": "mn0WVL5oeS_Z"
      },
      "source": [
        "## 2. Creating NumPy Arrays\n",
        "\n",
        "NumPy arrays are the core of the NumPy library. They are similar to Python lists but are more powerful due to their ability to handle large datasets and perform operations efficiently.\n",
        "\n",
        "### 2.1. Creating Arrays from Lists\n",
        "You can create a NumPy array from a Python list using the `np.array()` function."
      ],
      "id": "mn0WVL5oeS_Z"
    },
    {
      "cell_type": "code",
      "execution_count": 2,
      "metadata": {
        "colab": {
          "base_uri": "https://localhost:8080/"
        },
        "id": "XcekvxOHeS_a",
        "outputId": "8b3b816f-a4fe-40a5-f34e-ada004080867"
      },
      "outputs": [
        {
          "output_type": "stream",
          "name": "stdout",
          "text": [
            "Array from list: [1 2 3 4 5]\n"
          ]
        }
      ],
      "source": [
        "# Creating a NumPy array from a Python list\n",
        "array_from_list = np.array([1, 2, 3, 4, 5])\n",
        "print(\"Array from list:\", array_from_list)"
      ],
      "id": "XcekvxOHeS_a"
    },
    {
      "cell_type": "markdown",
      "metadata": {
        "id": "yuZG7cPreS_a"
      },
      "source": [
        "### 2.2. Arrays with Specific Values\n",
        "NumPy provides functions to create arrays filled with zeros, ones, or a specific range of values. These are useful for initializing data structures."
      ],
      "id": "yuZG7cPreS_a"
    },
    {
      "cell_type": "code",
      "execution_count": 3,
      "metadata": {
        "colab": {
          "base_uri": "https://localhost:8080/"
        },
        "id": "KiO5IFumeS_a",
        "outputId": "29ae9fd0-9409-46af-8445-2ffd8fb1fc87"
      },
      "outputs": [
        {
          "output_type": "stream",
          "name": "stdout",
          "text": [
            "Zeros Array:\n",
            " [[0. 0. 0.]\n",
            " [0. 0. 0.]\n",
            " [0. 0. 0.]]\n",
            "Ones Array:\n",
            " [[1. 1. 1. 1.]\n",
            " [1. 1. 1. 1.]]\n",
            "Range Array: [0 2 4 6 8]\n",
            "Random Array:\n",
            " [[0.97498663 0.3175737 ]\n",
            " [0.49158296 0.17231358]]\n"
          ]
        }
      ],
      "source": [
        "# Creating an array of zeros\n",
        "zeros_array = np.zeros((3, 3))  # 3x3 matrix of zeros\n",
        "print(\"Zeros Array:\\n\", zeros_array)\n",
        "\n",
        "# Creating an array of ones\n",
        "ones_array = np.ones((2, 4))  # 2x4 matrix of ones\n",
        "print(\"Ones Array:\\n\", ones_array)\n",
        "\n",
        "# Creating an array with a specific range\n",
        "range_array = np.arange(0, 10, 2)  # Array with values [0, 2, 4, 6, 8]\n",
        "print(\"Range Array:\", range_array)\n",
        "\n",
        "# Creating an array with random numbers\n",
        "random_array = np.random.random((2, 2))  # 2x2 matrix of random numbers between 0 and 1\n",
        "print(\"Random Array:\\n\", random_array)"
      ],
      "id": "KiO5IFumeS_a"
    },
    {
      "cell_type": "markdown",
      "metadata": {
        "id": "tMYys6AxeS_a"
      },
      "source": [
        "### 2.3. Array of Evenly Spaced Numbers\n",
        "The `np.linspace` function creates an array of evenly spaced numbers over a specified range. This is particularly useful for generating values for plotting graphs."
      ],
      "id": "tMYys6AxeS_a"
    },
    {
      "cell_type": "code",
      "execution_count": 4,
      "metadata": {
        "colab": {
          "base_uri": "https://localhost:8080/"
        },
        "id": "JEnlukAteS_a",
        "outputId": "40e0568f-fc84-4a78-eec7-30eeee7aa82b"
      },
      "outputs": [
        {
          "output_type": "stream",
          "name": "stdout",
          "text": [
            "Linspace Array: [0.         0.11111111 0.22222222 0.33333333 0.44444444 0.55555556\n",
            " 0.66666667 0.77777778 0.88888889 1.        ]\n"
          ]
        }
      ],
      "source": [
        "# Creating an array of 10 evenly spaced numbers between 0 and 1\n",
        "linspace_array = np.linspace(0, 1, 10)\n",
        "print(\"Linspace Array:\", linspace_array)"
      ],
      "id": "JEnlukAteS_a"
    },
    {
      "cell_type": "markdown",
      "metadata": {
        "id": "HnUgge-6eS_a"
      },
      "source": [
        "## 3. Array Attributes\n",
        "\n",
        "NumPy arrays have several attributes that are useful for understanding the properties of the array.\n",
        "\n",
        "### 3.1. Array Shape\n",
        "The shape of an array is a tuple that gives the size of the array along each dimension."
      ],
      "id": "HnUgge-6eS_a"
    },
    {
      "cell_type": "code",
      "execution_count": 5,
      "metadata": {
        "colab": {
          "base_uri": "https://localhost:8080/"
        },
        "id": "xURe4Ni0eS_a",
        "outputId": "f72a113d-b485-43ad-8471-82d8bbb68a4b"
      },
      "outputs": [
        {
          "output_type": "stream",
          "name": "stdout",
          "text": [
            "Shape of the array: (3, 3)\n"
          ]
        }
      ],
      "source": [
        "array = np.array([[1, 2, 3], [4, 5, 6], [7, 8, 9]])\n",
        "print(\"Shape of the array:\", array.shape)"
      ],
      "id": "xURe4Ni0eS_a"
    },
    {
      "cell_type": "markdown",
      "metadata": {
        "id": "7X3KkPrTeS_b"
      },
      "source": [
        "### 3.2. Number of Dimensions\n",
        "The `ndim` attribute returns the number of dimensions (axes) of the array."
      ],
      "id": "7X3KkPrTeS_b"
    },
    {
      "cell_type": "code",
      "execution_count": 6,
      "metadata": {
        "colab": {
          "base_uri": "https://localhost:8080/"
        },
        "id": "1DWM7WU7eS_b",
        "outputId": "f4362687-ed42-4c3f-8d4b-282777f3e36d"
      },
      "outputs": [
        {
          "output_type": "stream",
          "name": "stdout",
          "text": [
            "Number of dimensions: 2\n"
          ]
        }
      ],
      "source": [
        "print(\"Number of dimensions:\", array.ndim)"
      ],
      "id": "1DWM7WU7eS_b"
    },
    {
      "cell_type": "markdown",
      "metadata": {
        "id": "wMAvbdZIeS_b"
      },
      "source": [
        "### 3.3. Array Size\n",
        "The `size` attribute returns the total number of elements in the array."
      ],
      "id": "wMAvbdZIeS_b"
    },
    {
      "cell_type": "code",
      "execution_count": 7,
      "metadata": {
        "colab": {
          "base_uri": "https://localhost:8080/"
        },
        "id": "uorhA7W5eS_b",
        "outputId": "b870b9ca-48c1-4023-c3e8-cfd1072d7e39"
      },
      "outputs": [
        {
          "output_type": "stream",
          "name": "stdout",
          "text": [
            "Size of the array: 9\n"
          ]
        }
      ],
      "source": [
        "print(\"Size of the array:\", array.size)"
      ],
      "id": "uorhA7W5eS_b"
    },
    {
      "cell_type": "markdown",
      "metadata": {
        "id": "CYgItnI8eS_b"
      },
      "source": [
        "## 4. Reshaping Arrays\n",
        "\n",
        "Reshaping arrays is a common operation, especially when preparing data for machine learning models. The `reshape` method allows you to change the shape of an array without changing its data."
      ],
      "id": "CYgItnI8eS_b"
    },
    {
      "cell_type": "code",
      "execution_count": 8,
      "metadata": {
        "colab": {
          "base_uri": "https://localhost:8080/"
        },
        "id": "5rOMtuf1eS_b",
        "outputId": "1fd59fa7-3a90-4092-e8ca-56a0d242e17f"
      },
      "outputs": [
        {
          "output_type": "stream",
          "name": "stdout",
          "text": [
            "Reshaped Array (3x4):\n",
            " [[ 0  1  2  3]\n",
            " [ 4  5  6  7]\n",
            " [ 8  9 10 11]]\n"
          ]
        }
      ],
      "source": [
        "# Reshaping a 1D array to a 2D array\n",
        "reshaped_array = np.arange(12).reshape((3, 4))  # 3x4 matrix\n",
        "print(\"Reshaped Array (3x4):\\n\", reshaped_array)"
      ],
      "id": "5rOMtuf1eS_b"
    },
    {
      "cell_type": "markdown",
      "metadata": {
        "id": "crkciyHbeS_b"
      },
      "source": [
        "### Reshaping for Machine Learning\n",
        "Reshaping is particularly useful in machine learning where you need to transform data into a shape suitable for training models, such as converting 1D arrays into 2D feature matrices."
      ],
      "id": "crkciyHbeS_b"
    },
    {
      "cell_type": "code",
      "execution_count": 9,
      "metadata": {
        "colab": {
          "base_uri": "https://localhost:8080/"
        },
        "id": "cgFxM1zweS_b",
        "outputId": "3b3e36fa-206f-4cc8-b68c-8f2550049164"
      },
      "outputs": [
        {
          "output_type": "stream",
          "name": "stdout",
          "text": [
            "Data reshaped for machine learning:\n",
            " [[ 0  1  2  3]\n",
            " [ 4  5  6  7]\n",
            " [ 8  9 10 11]\n",
            " [12 13 14 15]\n",
            " [16 17 18 19]\n",
            " [20 21 22 23]]\n"
          ]
        }
      ],
      "source": [
        "# Example: Reshaping data for machine learning\n",
        "data = np.arange(24).reshape((6, 4))  # 6 samples, 4 features each\n",
        "print(\"Data reshaped for machine learning:\\n\", data)"
      ],
      "id": "cgFxM1zweS_b"
    },
    {
      "cell_type": "markdown",
      "metadata": {
        "id": "SEk8CQJ-eS_b"
      },
      "source": [
        "## 5. Indexing and Slicing Arrays\n",
        "\n",
        "Indexing and slicing are powerful tools for accessing specific elements or subarrays within a larger array. This allows you to manipulate parts of the data without affecting the entire dataset."
      ],
      "id": "SEk8CQJ-eS_b"
    },
    {
      "cell_type": "markdown",
      "metadata": {
        "id": "IcfUCsUbeS_b"
      },
      "source": [
        "### 5.1. Basic Indexing\n",
        "You can access individual elements in a NumPy array by specifying their indices."
      ],
      "id": "IcfUCsUbeS_b"
    },
    {
      "cell_type": "code",
      "execution_count": 10,
      "metadata": {
        "colab": {
          "base_uri": "https://localhost:8080/"
        },
        "id": "pZOaU0jSeS_b",
        "outputId": "169e58a6-6bea-419f-c084-0cda579d1f99"
      },
      "outputs": [
        {
          "output_type": "stream",
          "name": "stdout",
          "text": [
            "Element at index [1, 2]: 6\n"
          ]
        }
      ],
      "source": [
        "# Accessing elements\n",
        "element = array[1, 2]  # Element at row index 1, column index 2 (value 6)\n",
        "print(\"Element at index [1, 2]:\", element)"
      ],
      "id": "pZOaU0jSeS_b"
    },
    {
      "cell_type": "markdown",
      "metadata": {
        "id": "VpaMpiTxeS_c"
      },
      "source": [
        "### 5.2. Slicing\n",
        "Slicing allows you to extract subarrays from an array by specifying a range of indices. This is useful for working with subsets of data."
      ],
      "id": "VpaMpiTxeS_c"
    },
    {
      "cell_type": "code",
      "execution_count": 11,
      "metadata": {
        "colab": {
          "base_uri": "https://localhost:8080/"
        },
        "id": "xOem4RG4eS_c",
        "outputId": "f84d5540-e46b-4fbd-e538-bff243612863"
      },
      "outputs": [
        {
          "output_type": "stream",
          "name": "stdout",
          "text": [
            "Subarray:\n",
            " [[2 3]\n",
            " [5 6]]\n",
            "Column Slice (all rows, cols 1 to 2):\n",
            " [[2 3]\n",
            " [5 6]\n",
            " [8 9]]\n"
          ]
        }
      ],
      "source": [
        "# Slicing to get a subarray\n",
        "subarray = array[0:2, 1:3]  # Subarray from rows 0 to 1 and columns 1 to 2\n",
        "print(\"Subarray:\\n\", subarray)\n",
        "\n",
        "# Another example: selecting all rows and specific columns\n",
        "col_slice = array[:, 1:3]  # All rows, columns 1 to 2\n",
        "print(\"Column Slice (all rows, cols 1 to 2):\\n\", col_slice)"
      ],
      "id": "xOem4RG4eS_c"
    },
    {
      "cell_type": "markdown",
      "metadata": {
        "id": "8ndGf5PweS_c"
      },
      "source": [
        "### 5.3. Advanced Indexing\n",
        "\n",
        "NumPy also supports advanced indexing. This allows you to use arrays of indices to access multiple elements at once. It's particularly useful for selecting specific elements without using a loop."
      ],
      "id": "8ndGf5PweS_c"
    },
    {
      "cell_type": "code",
      "execution_count": 12,
      "metadata": {
        "colab": {
          "base_uri": "https://localhost:8080/"
        },
        "id": "pow52p9BeS_c",
        "outputId": "bf6d9cf6-e3f9-432a-810c-2d009d120419"
      },
      "outputs": [
        {
          "output_type": "stream",
          "name": "stdout",
          "text": [
            "Indexed Elements: [2 6]\n"
          ]
        }
      ],
      "source": [
        "# Using a list of indices to access specific elements\n",
        "indexed_elements = array[[0, 1], [1, 2]]  # Elements (0, 1) and (1, 2)\n",
        "print(\"Indexed Elements:\", indexed_elements)"
      ],
      "id": "pow52p9BeS_c"
    },
    {
      "cell_type": "markdown",
      "metadata": {
        "id": "K2BTnqKleS_c"
      },
      "source": [
        "## 6. Array Operations\n",
        "\n",
        "NumPy supports a wide range of operations on arrays, including element-wise operations, aggregation functions, and more. These operations are highly optimized and can handle large datasets efficiently."
      ],
      "id": "K2BTnqKleS_c"
    },
    {
      "cell_type": "markdown",
      "metadata": {
        "id": "NMrdQn4weS_c"
      },
      "source": [
        "### 6.1. Element-wise Operations\n",
        "\n",
        "Element-wise operations are applied to each element in the array. This includes arithmetic operations like addition, subtraction, multiplication, and division, as well as mathematical functions like square root, exponential, and logarithm."
      ],
      "id": "NMrdQn4weS_c"
    },
    {
      "cell_type": "code",
      "execution_count": 13,
      "metadata": {
        "colab": {
          "base_uri": "https://localhost:8080/"
        },
        "id": "wZRGP3HseS_c",
        "outputId": "dc788d2d-aba8-44a8-afb1-a678478a30dd"
      },
      "outputs": [
        {
          "output_type": "stream",
          "name": "stdout",
          "text": [
            "Element-wise Sum: [5 7 9]\n",
            "Element-wise Product: [ 4 10 18]\n",
            "Square Root of array1: [1.         1.41421356 1.73205081]\n"
          ]
        }
      ],
      "source": [
        "# Element-wise addition\n",
        "array1 = np.array([1, 2, 3])\n",
        "array2 = np.array([4, 5, 6])\n",
        "sum_array = array1 + array2  # [5, 7, 9]\n",
        "print(\"Element-wise Sum:\", sum_array)\n",
        "\n",
        "# Element-wise multiplication\n",
        "prod_array = array1 * array2  # [4, 10, 18]\n",
        "print(\"Element-wise Product:\", prod_array)\n",
        "\n",
        "# Using mathematical functions\n",
        "sqrt_array = np.sqrt(array1)  # [1.0, 1.414, 1.732]\n",
        "print(\"Square Root of array1:\", sqrt_array)"
      ],
      "id": "wZRGP3HseS_c"
    },
    {
      "cell_type": "markdown",
      "metadata": {
        "id": "yR9QQhlMeS_c"
      },
      "source": [
        "### 6.2. Aggregation Functions\n",
        "\n",
        "Aggregation functions perform a computation that reduces the dimension of the array by summarizing data. Common aggregation functions include `sum`, `mean`, `max`, and `min`."
      ],
      "id": "yR9QQhlMeS_c"
    },
    {
      "cell_type": "code",
      "execution_count": 14,
      "metadata": {
        "colab": {
          "base_uri": "https://localhost:8080/"
        },
        "id": "Jq-1IvEneS_c",
        "outputId": "4d125470-b2f1-4861-df45-fbcb46c99789"
      },
      "outputs": [
        {
          "output_type": "stream",
          "name": "stdout",
          "text": [
            "Total Sum: 45\n",
            "Maximum Value: 9\n",
            "Mean Value: 5.0\n"
          ]
        }
      ],
      "source": [
        "array = np.array([[1, 2, 3], [4, 5, 6], [7, 8, 9]])\n",
        "\n",
        "# Summing all elements\n",
        "total_sum = array.sum()  # 45\n",
        "print(\"Total Sum:\", total_sum)\n",
        "\n",
        "# Finding the maximum value\n",
        "max_value = array.max()  # 9\n",
        "print(\"Maximum Value:\", max_value)\n",
        "\n",
        "# Computing the mean\n",
        "mean_value = array.mean()  # 5.0\n",
        "print(\"Mean Value:\", mean_value)"
      ],
      "id": "Jq-1IvEneS_c"
    },
    {
      "cell_type": "markdown",
      "metadata": {
        "id": "J573aRQteS_c"
      },
      "source": [
        "### 6.3. Axis-Based Operations\n",
        "\n",
        "Many aggregation functions can be applied along a specific axis of the array. This is useful for operations like summing rows or columns in a matrix."
      ],
      "id": "J573aRQteS_c"
    },
    {
      "cell_type": "code",
      "execution_count": 15,
      "metadata": {
        "colab": {
          "base_uri": "https://localhost:8080/"
        },
        "id": "zXhrCPj4eS_c",
        "outputId": "265ace06-f0c2-4435-f479-de3952ec57aa"
      },
      "outputs": [
        {
          "output_type": "stream",
          "name": "stdout",
          "text": [
            "Sum of Rows: [ 6 15 24]\n",
            "Mean of Columns: [4. 5. 6.]\n"
          ]
        }
      ],
      "source": [
        "# Sum along the rows (axis 1)\n",
        "row_sum = array.sum(axis=1)  # [6, 15, 24]\n",
        "print(\"Sum of Rows:\", row_sum)\n",
        "\n",
        "# Mean along the columns (axis 0)\n",
        "col_mean = array.mean(axis=0)  # [4.0, 5.0, 6.0]\n",
        "print(\"Mean of Columns:\", col_mean)"
      ],
      "id": "zXhrCPj4eS_c"
    },
    {
      "cell_type": "markdown",
      "metadata": {
        "id": "n3BsB0VAeS_c"
      },
      "source": [
        "## 7. Boolean Indexing\n",
        "\n",
        "Boolean indexing is a powerful feature that allows you to filter arrays based on conditions. This is useful for selecting data that meets certain criteria."
      ],
      "id": "n3BsB0VAeS_c"
    },
    {
      "cell_type": "code",
      "execution_count": 16,
      "metadata": {
        "colab": {
          "base_uri": "https://localhost:8080/"
        },
        "id": "giqKoQMreS_c",
        "outputId": "b966c595-e88d-4fd2-e6b7-6c4c401a00ef"
      },
      "outputs": [
        {
          "output_type": "stream",
          "name": "stdout",
          "text": [
            "Elements greater than 3: [4 5 6]\n"
          ]
        }
      ],
      "source": [
        "# Boolean indexing example\n",
        "array = np.array([1, 2, 3, 4, 5, 6])\n",
        "\n",
        "# Selecting elements greater than 3\n",
        "greater_than_three = array[array > 3]  # [4, 5, 6]\n",
        "print(\"Elements greater than 3:\", greater_than_three)"
      ],
      "id": "giqKoQMreS_c"
    },
    {
      "cell_type": "markdown",
      "metadata": {
        "id": "JFsN_KGseS_c"
      },
      "source": [
        "## 8. Combining and Splitting Arrays\n",
        "\n",
        "You can combine multiple arrays into one and split a single array into multiple smaller arrays. This is useful for data manipulation and organization."
      ],
      "id": "JFsN_KGseS_c"
    },
    {
      "cell_type": "markdown",
      "metadata": {
        "id": "yZpDZVoEeS_c"
      },
      "source": [
        "### 8.1. Concatenating Arrays\n",
        "\n",
        "You can concatenate arrays along different axes using `np.concatenate`, `np.vstack` (vertical stack), and `np.hstack` (horizontal stack)."
      ],
      "id": "yZpDZVoEeS_c"
    },
    {
      "cell_type": "code",
      "execution_count": 17,
      "metadata": {
        "colab": {
          "base_uri": "https://localhost:8080/"
        },
        "id": "U57He_HheS_c",
        "outputId": "84d26677-1b67-4c6c-fd38-5083b7f2bfbc"
      },
      "outputs": [
        {
          "output_type": "stream",
          "name": "stdout",
          "text": [
            "Vertical Stack:\n",
            " [[1 2]\n",
            " [3 4]\n",
            " [5 6]]\n",
            "Horizontal Stack:\n",
            " [[1 2 5]\n",
            " [3 4 6]]\n"
          ]
        }
      ],
      "source": [
        "# Concatenating arrays vertically (axis 0)\n",
        "array1 = np.array([[1, 2], [3, 4]])\n",
        "array2 = np.array([[5, 6]])\n",
        "vertical_stack = np.vstack((array1, array2))\n",
        "print(\"Vertical Stack:\\n\", vertical_stack)\n",
        "\n",
        "# Concatenating arrays horizontally (axis 1)\n",
        "horizontal_stack = np.hstack((array1, array2.T))  # Transpose array2 for horizontal stack\n",
        "print(\"Horizontal Stack:\\n\", horizontal_stack)"
      ],
      "id": "U57He_HheS_c"
    },
    {
      "cell_type": "markdown",
      "metadata": {
        "id": "XW7M1ccXeS_c"
      },
      "source": [
        "### 8.2. Splitting Arrays\n",
        "\n",
        "You can split an array into multiple smaller arrays using `np.split`, `np.vsplit` (vertical split), and `np.hsplit` (horizontal split)."
      ],
      "id": "XW7M1ccXeS_c"
    },
    {
      "cell_type": "code",
      "execution_count": 18,
      "metadata": {
        "colab": {
          "base_uri": "https://localhost:8080/"
        },
        "id": "q_SjnTJdeS_d",
        "outputId": "622a479c-0efb-4b98-d0ea-2f4cd3259d46"
      },
      "outputs": [
        {
          "output_type": "stream",
          "name": "stdout",
          "text": [
            "Original Array:\n",
            " [[0 1 2]\n",
            " [3 4 5]\n",
            " [6 7 8]]\n",
            "Split Arrays:\n",
            "Sub-array 1:\n",
            " [[0]\n",
            " [3]\n",
            " [6]]\n",
            "Sub-array 2:\n",
            " [[1]\n",
            " [4]\n",
            " [7]]\n",
            "Sub-array 3:\n",
            " [[2]\n",
            " [5]\n",
            " [8]]\n"
          ]
        }
      ],
      "source": [
        "# Splitting an array into 3 sub-arrays along axis 1\n",
        "array = np.arange(9).reshape(3, 3)\n",
        "split_arrays = np.split(array, 3, axis=1)\n",
        "print(\"Original Array:\\n\", array)\n",
        "print(\"Split Arrays:\")\n",
        "for i, sub_array in enumerate(split_arrays):\n",
        "    print(f\"Sub-array {i+1}:\\n\", sub_array)"
      ],
      "id": "q_SjnTJdeS_d"
    },
    {
      "cell_type": "markdown",
      "metadata": {
        "id": "ywvOqMcEeS_d"
      },
      "source": [
        "## 9. Array Broadcasting\n",
        "\n",
        "Broadcasting allows NumPy to perform operations on arrays of different shapes in a way that would not normally be possible. This is particularly useful for performing arithmetic operations on arrays of different shapes."
      ],
      "id": "ywvOqMcEeS_d"
    },
    {
      "cell_type": "code",
      "execution_count": 19,
      "metadata": {
        "colab": {
          "base_uri": "https://localhost:8080/"
        },
        "id": "Tw8J8qiweS_d",
        "outputId": "3b1977dd-80a9-4918-dfd9-de67b12b652a"
      },
      "outputs": [
        {
          "output_type": "stream",
          "name": "stdout",
          "text": [
            "Broadcasted Array: [3 4 5]\n",
            "Broadcasted 2D Array:\n",
            " [[11 12 13]\n",
            " [14 15 16]]\n"
          ]
        }
      ],
      "source": [
        "# Broadcasting example\n",
        "array = np.array([1, 2, 3])\n",
        "scalar = 2\n",
        "\n",
        "# Adding a scalar to an array\n",
        "broadcasted_array = array + scalar  # [3, 4, 5]\n",
        "print(\"Broadcasted Array:\", broadcasted_array)\n",
        "\n",
        "# Broadcasting with a 2D array\n",
        "array_2d = np.array([[1, 2, 3], [4, 5, 6]])\n",
        "scalar_2d = 10\n",
        "broadcasted_array_2d = array_2d + scalar_2d  # Adding 10 to each element\n",
        "print(\"Broadcasted 2D Array:\\n\", broadcasted_array_2d)"
      ],
      "id": "Tw8J8qiweS_d"
    },
    {
      "cell_type": "markdown",
      "metadata": {
        "id": "dVNnZjvheS_d"
      },
      "source": [
        "## 10. Array Copying and Views\n",
        "\n",
        "In NumPy, arrays can be copied or viewed. A copy creates a new array with its own data, while a view creates a new array object that references the original data. Modifications to a view will affect the original array, while modifications to a copy will not."
      ],
      "id": "dVNnZjvheS_d"
    },
    {
      "cell_type": "code",
      "execution_count": 20,
      "metadata": {
        "colab": {
          "base_uri": "https://localhost:8080/"
        },
        "id": "PO4izELueS_d",
        "outputId": "cbfc50dc-3292-47c2-8545-6b70f7d7e288"
      },
      "outputs": [
        {
          "output_type": "stream",
          "name": "stdout",
          "text": [
            "Original Array: [1 2 3 4]\n",
            "Modified Copy: [100   2   3   4]\n",
            "Original Array after modifying view: [200   2   3   4]\n",
            "View: [200   2   3   4]\n"
          ]
        }
      ],
      "source": [
        "# Creating an original array\n",
        "original_array = np.array([1, 2, 3, 4])\n",
        "\n",
        "# Creating a copy\n",
        "array_copy = original_array.copy()\n",
        "array_copy[0] = 100  # Modify copy\n",
        "print(\"Original Array:\", original_array)\n",
        "print(\"Modified Copy:\", array_copy)\n",
        "\n",
        "# Creating a view\n",
        "array_view = original_array.view()\n",
        "array_view[0] = 200  # Modify view\n",
        "print(\"Original Array after modifying view:\", original_array)\n",
        "print(\"View:\", array_view)"
      ],
      "id": "PO4izELueS_d"
    },
    {
      "cell_type": "markdown",
      "metadata": {
        "id": "L9pdUMW5eS_d"
      },
      "source": [
        "## 11. Mathematical Functions\n",
        "\n",
        "NumPy provides a wide range of mathematical functions that can be applied element-wise to arrays. These functions include trigonometric functions, exponentiation, logarithms, and more."
      ],
      "id": "L9pdUMW5eS_d"
    },
    {
      "cell_type": "code",
      "execution_count": 21,
      "metadata": {
        "colab": {
          "base_uri": "https://localhost:8080/"
        },
        "id": "dZkwhW_deS_d",
        "outputId": "6419713a-81e4-488a-e060-d52dbbfc6b7e"
      },
      "outputs": [
        {
          "output_type": "stream",
          "name": "stdout",
          "text": [
            "Square Root: [1. 2. 3. 4.]\n",
            "Exponential: [2.71828183e+00 5.45981500e+01 8.10308393e+03 8.88611052e+06]\n",
            "Logarithm: [0.         1.38629436 2.19722458 2.77258872]\n"
          ]
        }
      ],
      "source": [
        "# Applying mathematical functions\n",
        "array = np.array([1, 4, 9, 16])\n",
        "\n",
        "# Square root\n",
        "sqrt_array = np.sqrt(array)  # [1.0, 2.0, 3.0, 4.0]\n",
        "print(\"Square Root:\", sqrt_array)\n",
        "\n",
        "# Exponential\n",
        "exp_array = np.exp(array)  # [2.718, 54.598, 810.558, 8882.208]\n",
        "print(\"Exponential:\", exp_array)\n",
        "\n",
        "# Logarithm\n",
        "log_array = np.log(array)  # [0.0, 1.386, 2.197, 2.773]\n",
        "print(\"Logarithm:\", log_array)"
      ],
      "id": "dZkwhW_deS_d"
    },
    {
      "cell_type": "markdown",
      "metadata": {
        "id": "efJdpmRueS_d"
      },
      "source": [
        "## 12. Linear Algebra Operations\n",
        "\n",
        "NumPy includes several functions for performing linear algebra operations such as matrix multiplication, determinants, and inverses. These are essential for many applications in data science and machine learning."
      ],
      "id": "efJdpmRueS_d"
    },
    {
      "cell_type": "code",
      "execution_count": 22,
      "metadata": {
        "colab": {
          "base_uri": "https://localhost:8080/"
        },
        "id": "ZpuAq4JQeS_d",
        "outputId": "87bca855-ce13-44db-e9ec-b201dc9c6652"
      },
      "outputs": [
        {
          "output_type": "stream",
          "name": "stdout",
          "text": [
            "Matrix Product:\n",
            " [[19 22]\n",
            " [43 50]]\n",
            "Determinant of matrix1: -2.0000000000000004\n",
            "Inverse of matrix1:\n",
            " [[-2.   1. ]\n",
            " [ 1.5 -0.5]]\n"
          ]
        }
      ],
      "source": [
        "# Linear algebra operations\n",
        "matrix1 = np.array([[1, 2], [3, 4]])\n",
        "matrix2 = np.array([[5, 6], [7, 8]])\n",
        "\n",
        "# Matrix multiplication\n",
        "matrix_product = np.dot(matrix1, matrix2)\n",
        "print(\"Matrix Product:\\n\", matrix_product)\n",
        "\n",
        "# Determinant\n",
        "det_matrix1 = np.linalg.det(matrix1)\n",
        "print(\"Determinant of matrix1:\", det_matrix1)\n",
        "\n",
        "# Inverse\n",
        "inverse_matrix1 = np.linalg.inv(matrix1)\n",
        "print(\"Inverse of matrix1:\\n\", inverse_matrix1)"
      ],
      "id": "ZpuAq4JQeS_d"
    },
    {
      "cell_type": "markdown",
      "metadata": {
        "id": "By79lbmaeS_d"
      },
      "source": [
        "## Conclusion\n",
        "\n",
        "An extensive introduction to NumPy for data manipulation was given in this notebook. Broadcasting, copying, reshaping, indexing, mathematical operations, and linear algebra were all covered. Gaining proficiency with these ideas is essential for efficient Python data manipulation and analysis."
      ],
      "id": "By79lbmaeS_d"
    }
  ],
  "metadata": {
    "kernelspec": {
      "display_name": "Python 3",
      "language": "python",
      "name": "python3"
    },
    "language_info": {
      "codemirror_mode": {
        "name": "ipython",
        "version": 3
      },
      "file_extension": ".py",
      "mimetype": "text/x-python",
      "name": "python",
      "nbconvert_exporter": "python",
      "pygments_lexer": "ipython3",
      "version": "3.8.5"
    },
    "colab": {
      "provenance": []
    }
  },
  "nbformat": 4,
  "nbformat_minor": 5
}