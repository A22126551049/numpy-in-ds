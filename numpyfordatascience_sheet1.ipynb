{
 "cells": [
  {
   "cell_type": "markdown",
   "id": "c38ea6e7",
   "metadata": {},
   "source": [
    "# Getting Started with NumPy\n",
    "This notebook will help you get familiar with NumPy and its core functionalities. We will cover:\n",
    "1. **Getting Familiar with NumPy**\n",
    "2. **Data Manipulation**\n",
    "3. **Data Aggregation**\n",
    "4. **Data Analysis**\n",
    "5. **Application in Data Science**\n",
    "6. **Summary**\n",
    "\n",
    "Let's start by installing NumPy (if you haven't already) and importing it."
   ]
  },
  {
   "cell_type": "code",
   "execution_count": 7,
   "id": "ef7a948e",
   "metadata": {},
   "outputs": [
    {
     "name": "stdout",
     "output_type": "stream",
     "text": [
      "NumPy version: 2.1.0\n"
     ]
    }
   ],
   "source": [
    "# Install NumPy (uncomment the following line if NumPy is not installed)\n",
    "# !pip install numpy\n",
    "\n",
    "# Import NumPy\n",
    "import numpy as np\n",
    "\n",
    "# Verify the version\n",
    "print(\"NumPy version:\", np.__version__)"
   ]
  },
  {
   "cell_type": "markdown",
   "id": "96196898",
   "metadata": {},
   "source": [
    "## 1. Getting Familiar with NumPy\n",
    "NumPy is a powerful library for numerical computations in Python. Here are some core functionalities:\n",
    "\n",
    "### Array Creation\n",
    "You can create NumPy arrays from Python lists or tuples using `np.array()`."
   ]
  },
  {
   "cell_type": "code",
   "execution_count": 8,
   "id": "facacb08",
   "metadata": {},
   "outputs": [
    {
     "name": "stdout",
     "output_type": "stream",
     "text": [
      "[1 2 3 4 5]\n"
     ]
    }
   ],
   "source": [
    "import numpy as np\n",
    "\n",
    "# Create a NumPy array from a list\n",
    "arr = np.array([1, 2, 3, 4, 5])\n",
    "print(arr)"
   ]
  },
  {
   "cell_type": "markdown",
   "id": "9c39a23b",
   "metadata": {},
   "source": [
    "### Basic Operations\n",
    "NumPy arrays support element-wise operations."
   ]
  },
  {
   "cell_type": "code",
   "execution_count": 9,
   "id": "afd79675",
   "metadata": {},
   "outputs": [
    {
     "name": "stdout",
     "output_type": "stream",
     "text": [
      "[11 12 13 14 15]\n",
      "[ 2  4  6  8 10]\n"
     ]
    }
   ],
   "source": [
    "\n",
    "# Array addition\n",
    "arr2 = arr + 10\n",
    "print(arr2)\n",
    "\n",
    "# Element-wise multiplication\n",
    "arr3 = arr * 2\n",
    "print(arr3)"
   ]
  },
  {
   "cell_type": "markdown",
   "id": "7634d71a",
   "metadata": {},
   "source": [
    "\n",
    "### Array Properties\n",
    "You can access the shape, size, and datatype of an array."
   ]
  },
  {
   "cell_type": "code",
   "execution_count": 10,
   "id": "befb26eb",
   "metadata": {},
   "outputs": [
    {
     "name": "stdout",
     "output_type": "stream",
     "text": [
      "Shape: (5,)\n",
      "Size: 5\n",
      "Datatype: int64\n"
     ]
    }
   ],
   "source": [
    "# Array properties\n",
    "print(\"Shape:\", arr.shape)\n",
    "print(\"Size:\", arr.size)\n",
    "print(\"Datatype:\", arr.dtype)"
   ]
  },
  {
   "cell_type": "code",
   "execution_count": 11,
   "id": "3e4b0bf2",
   "metadata": {},
   "outputs": [
    {
     "name": "stdout",
     "output_type": "stream",
     "text": [
      "NumPy version: 2.1.0\n",
      "Array: [1 2 3 4 5]\n",
      "Array + 10: [11 12 13 14 15]\n",
      "Array * 2: [ 2  4  6  8 10]\n",
      "Shape: (5,)\n",
      "Size: 5\n",
      "Datatype: int64\n"
     ]
    }
   ],
   "source": [
    "# Verify the version\n",
    "print(\"NumPy version:\", np.__version__)\n",
    "\n",
    "# Array creation\n",
    "arr = np.array([1, 2, 3, 4, 5])\n",
    "print(\"Array:\", arr)\n",
    "\n",
    "# Basic operations\n",
    "arr2 = arr + 10\n",
    "print(\"Array + 10:\", arr2)\n",
    "arr3 = arr * 2\n",
    "print(\"Array * 2:\", arr3)\n",
    "\n",
    "# Array properties\n",
    "print(\"Shape:\", arr.shape)\n",
    "print(\"Size:\", arr.size)\n",
    "print(\"Datatype:\", arr.dtype)"
   ]
  },
  {
   "cell_type": "markdown",
   "id": "995283b8",
   "metadata": {},
   "source": [
    "## 2. Data Manipulation\n",
    "Let's dive into data manipulation using NumPy.\n",
    "\n",
    "### Array Indexing and Slicing\n",
    "You can access specific elements or slices of a NumPy array."
   ]
  },
  {
   "cell_type": "code",
   "execution_count": 12,
   "id": "c491b1ca",
   "metadata": {},
   "outputs": [
    {
     "name": "stdout",
     "output_type": "stream",
     "text": [
      "Element at index 2: 30\n",
      "Elements from index 1 to 3: [20 30 40]\n"
     ]
    }
   ],
   "source": [
    "# Create an array\n",
    "arr = np.array([10, 20, 30, 40, 50])\n",
    "\n",
    "# Indexing\n",
    "print(\"Element at index 2:\", arr[2])\n",
    "\n",
    "# Slicing\n",
    "print(\"Elements from index 1 to 3:\", arr[1:4])"
   ]
  },
  {
   "cell_type": "markdown",
   "id": "baff0fb2",
   "metadata": {},
   "source": [
    "### Reshaping Arrays\n",
    "You can change the shape of an array without changing its data."
   ]
  },
  {
   "cell_type": "code",
   "execution_count": 13,
   "id": "f3cbd35c",
   "metadata": {},
   "outputs": [
    {
     "name": "stdout",
     "output_type": "stream",
     "text": [
      "Reshaped array: [[1 2 3]\n",
      " [4 5 6]]\n"
     ]
    }
   ],
   "source": [
    "# Reshape to 2x3 array\n",
    "arr = np.array([[1, 2, 3], [4, 5, 6]])\n",
    "print(\"Reshaped array:\", arr)"
   ]
  },
  {
   "cell_type": "markdown",
   "id": "59e341c8",
   "metadata": {},
   "source": [
    "\n",
    "### Mathematical Operations\n",
    "Apply mathematical functions to arrays."
   ]
  },
  {
   "cell_type": "code",
   "execution_count": 14,
   "id": "79f7670f",
   "metadata": {},
   "outputs": [
    {
     "name": "stdout",
     "output_type": "stream",
     "text": [
      "Square root of array: [[1.         1.41421356 1.73205081]\n",
      " [2.         2.23606798 2.44948974]]\n",
      "Sum of elements: 21\n"
     ]
    }
   ],
   "source": [
    "# Element-wise square root\n",
    "sqrt_arr = np.sqrt(arr)\n",
    "print(\"Square root of array:\", sqrt_arr)\n",
    "\n",
    "# Sum of array elements\n",
    "sum_arr = np.sum(arr)\n",
    "print(\"Sum of elements:\", sum_arr)"
   ]
  },
  {
   "cell_type": "code",
   "execution_count": 15,
   "id": "568c4efa",
   "metadata": {},
   "outputs": [
    {
     "name": "stdout",
     "output_type": "stream",
     "text": [
      "Array: [1 2 3 4 5]\n",
      "Array + 10: [11 12 13 14 15]\n",
      "Array * 2: [ 2  4  6  8 10]\n",
      "Shape: (5,)\n",
      "Size: 5\n",
      "Datatype: int64\n"
     ]
    }
   ],
   "source": [
    "# Array creation\n",
    "arr = np.array([1, 2, 3, 4, 5])\n",
    "print(\"Array:\", arr)\n",
    "\n",
    "# Basic operations\n",
    "arr2 = arr + 10\n",
    "print(\"Array + 10:\", arr2)\n",
    "arr3 = arr * 2\n",
    "print(\"Array * 2:\", arr3)\n",
    "\n",
    "# Array properties\n",
    "print(\"Shape:\", arr.shape)\n",
    "print(\"Size:\", arr.size)\n",
    "print(\"Datatype:\", arr.dtype)\n"
   ]
  },
  {
   "cell_type": "markdown",
   "id": "aad5ed97",
   "metadata": {},
   "source": [
    "## 3. Data Aggregation\n",
    "NumPy provides various functions to compute summary statistics.\n",
    "\n",
    "### Summary Statistics\n",
    "Compute mean, median, standard deviation, and sum."
   ]
  },
  {
   "cell_type": "code",
   "execution_count": 16,
   "id": "99cca42d",
   "metadata": {},
   "outputs": [
    {
     "name": "stdout",
     "output_type": "stream",
     "text": [
      "Mean: 30.0\n",
      "Median: 30.0\n",
      "Standard Deviation: 14.142135623730951\n",
      "Sum: 150\n"
     ]
    }
   ],
   "source": [
    "# Create an array\n",
    "arr = np.array([10, 20, 30, 40, 50])\n",
    "\n",
    "# Mean\n",
    "mean_val = np.mean(arr)\n",
    "print(\"Mean:\", mean_val)\n",
    "\n",
    "# Median\n",
    "median_val = np.median(arr)\n",
    "print(\"Median:\", median_val)\n",
    "\n",
    "# Standard Deviation\n",
    "std_dev = np.std(arr)\n",
    "print(\"Standard Deviation:\", std_dev)\n",
    "\n",
    "# Sum\n",
    "sum_val = np.sum(arr)\n",
    "print(\"Sum:\", sum_val)"
   ]
  },
  {
   "cell_type": "markdown",
   "id": "9c89f742",
   "metadata": {},
   "source": [
    "### Grouping Data\n",
    "Perform aggregations on grouped data."
   ]
  },
  {
   "cell_type": "code",
   "execution_count": 17,
   "id": "331cd8ca",
   "metadata": {},
   "outputs": [
    {
     "name": "stdout",
     "output_type": "stream",
     "text": [
      "Sum by category: {np.str_('Cars'): np.int64(50), np.str_('Films'): np.int64(60), np.str_('Games'): np.int64(70), np.str_('Fruits'): np.int64(80)}\n"
     ]
    }
   ],
   "source": [
    "# Example with multiple arrays\n",
    "categories = np.array([\"Cars\", \"Films\", \"Games\", \"Fruits\"])\n",
    "values = np.array([50, 60, 70, 80])\n",
    "\n",
    "# Sum of values\n",
    "sum_by_category = {cat: val for cat, val in zip(categories, values)}\n",
    "\n",
    "# Print the sum by category\n",
    "print(\"Sum by category:\", sum_by_category)"
   ]
  },
  {
   "cell_type": "code",
   "execution_count": 4,
   "id": "6692ec38",
   "metadata": {},
   "outputs": [
    {
     "name": "stdout",
     "output_type": "stream",
     "text": [
      "Mean: 30.0\n",
      "Median: 30.0\n",
      "Standard Deviation: 14.142135623730951\n",
      "Sum: 150\n",
      "Sum by category: {np.str_('Cars'): np.int64(50), np.str_('Films'): np.int64(60), np.str_('Games'): np.int64(70), np.str_('Fruits'): np.int64(80)}\n"
     ]
    }
   ],
   "source": [
    "# Create an array\n",
    "arr = np.array([10, 20, 30, 40, 50])\n",
    "\n",
    "# Mean\n",
    "mean_val = np.mean(arr)\n",
    "print(\"Mean:\", mean_val)\n",
    "\n",
    "# Median\n",
    "median_val = np.median(arr)\n",
    "print(\"Median:\", median_val)\n",
    "\n",
    "# Standard Deviation\n",
    "std_dev = np.std(arr)\n",
    "print(\"Standard Deviation:\", std_dev)\n",
    "\n",
    "# Sum\n",
    "sum_val = np.sum(arr)\n",
    "print(\"Sum:\", sum_val)\n",
    "\n",
    "# Example with multiple arrays\n",
    "categories = np.array([\"Cars\", \"Films\", \"Games\", \"Fruits\"])\n",
    "values = np.array([50, 60, 70, 80])\n",
    "\n",
    "# Sum of values\n",
    "sum_by_category = {cat: val for cat, val in zip(categories, values)}\n",
    "# Print the sum by category\n",
    "print(\"Sum by category:\", sum_by_category)\n"
   ]
  },
  {
   "cell_type": "markdown",
   "id": "94de85a5",
   "metadata": {},
   "source": [
    "## 4. Data Analysis\n",
    "NumPy provides tools for more advanced data analysis, such as finding correlations and identifying outliers.\n",
    "\n",
    "### Finding Correlations\n",
    "Use NumPy to compute correlation coefficients between arrays."
   ]
  },
  {
   "cell_type": "code",
   "execution_count": 18,
   "id": "003ba9dd",
   "metadata": {},
   "outputs": [
    {
     "name": "stdout",
     "output_type": "stream",
     "text": [
      "Correlation coefficient: 0.9999999999999999\n"
     ]
    }
   ],
   "source": [
    "# Create two arrays\n",
    "x = np.array([1, 2, 3, 4, 5])\n",
    "y = np.array([2, 4, 6, 8, 10])\n",
    "\n",
    "# Compute correlation coefficient\n",
    "correlation = np.corrcoef(x, y)[0, 1]\n",
    "print(\"Correlation coefficient:\", correlation)"
   ]
  },
  {
   "cell_type": "markdown",
   "id": "57749490",
   "metadata": {},
   "source": [
    "### Identifying Outliers\n",
    "Identify outliers based on the standard deviation from the mean."
   ]
  },
  {
   "cell_type": "code",
   "execution_count": 19,
   "id": "19493eeb",
   "metadata": {},
   "outputs": [
    {
     "name": "stdout",
     "output_type": "stream",
     "text": [
      "Outliers: [100]\n"
     ]
    }
   ],
   "source": [
    "# Create an array with potential outliers\n",
    "data = np.array([10, 12, 14, 18, 20, 100])\n",
    "\n",
    "# Mean and standard deviation\n",
    "mean_data = np.mean(data)\n",
    "std_dev_data = np.std(data)\n",
    "\n",
    "# Identify outliers\n",
    "outliers = data[np.abs(data - mean_data) > 2 * std_dev_data]\n",
    "print(\"Outliers:\", outliers)"
   ]
  },
  {
   "cell_type": "markdown",
   "id": "48bdeb2c",
   "metadata": {},
   "source": [
    "### Calculating Percentiles\n",
    "Compute percentiles to understand the distribution of data."
   ]
  },
  {
   "cell_type": "code",
   "execution_count": 20,
   "id": "39430e66",
   "metadata": {},
   "outputs": [
    {
     "name": "stdout",
     "output_type": "stream",
     "text": [
      "25th percentile: 69.75\n",
      "75th percentile: 89.75\n"
     ]
    }
   ],
   "source": [
    "# Create an array\n",
    "scores = np.array([55, 67, 78, 89, 90, 92])\n",
    "\n",
    "# Calculate percentiles\n",
    "percentiles_25 = np.percentile(scores, 25)\n",
    "percentiles_75 = np.percentile(scores, 75)\n",
    "print(\"25th percentile:\", percentiles_25)\n",
    "print(\"75th percentile:\", percentiles_75)"
   ]
  },
  {
   "cell_type": "code",
   "execution_count": 21,
   "id": "0ca75019",
   "metadata": {},
   "outputs": [
    {
     "name": "stdout",
     "output_type": "stream",
     "text": [
      "Correlation coefficient: 0.9999999999999999\n",
      "Outliers: [100]\n",
      "25th percentile: 69.75\n",
      "75th percentile: 89.75\n"
     ]
    }
   ],
   "source": [
    "# Create two arrays\n",
    "x = np.array([1, 2, 3, 4, 5])\n",
    "y = np.array([2, 4, 6, 8, 10])\n",
    "\n",
    "# Compute correlation coefficient\n",
    "correlation = np.corrcoef(x, y)[0, 1]\n",
    "print(\"Correlation coefficient:\", correlation)\n",
    "\n",
    "# Create an array with potential outliers\n",
    "data = np.array([10, 12, 14, 18, 20, 100])\n",
    "\n",
    "# Mean and standard deviation\n",
    "mean_data = np.mean(data)\n",
    "std_dev_data = np.std(data)\n",
    "\n",
    "# Identify outliers\n",
    "outliers = data[np.abs(data - mean_data) > 2 * std_dev_data]\n",
    "print(\"Outliers:\", outliers)\n",
    "\n",
    "# Create an array\n",
    "scores = np.array([55, 67, 78, 89, 90, 92])\n",
    "\n",
    "# Calculate percentiles\n",
    "percentiles_25 = np.percentile(scores, 25)\n",
    "percentiles_75 = np.percentile(scores, 75)\n",
    "print(\"25th percentile:\", percentiles_25)\n",
    "print(\"75th percentile:\", percentiles_75)\n"
   ]
  },
  {
   "cell_type": "markdown",
   "id": "7f5e42a7",
   "metadata": {},
   "source": [
    "## 5. Application in Data Science\n",
    "NumPy is extensively used in data science for its efficient handling of large datasets and numerical computations.\n",
    "\n",
    "### Advantages of NumPy\n",
    "1. **Performance**: NumPy is optimized for performance, making operations on large arrays much faster than traditional Python lists.\n",
    "2. **Convenience**: It provides a comprehensive suite of mathematical functions and operations.\n",
    "3. **Integration**: NumPy arrays are compatible with many other libraries used in data science.\n",
    "\n",
    "### Real-World Examples\n",
    "#### Machine Learning\n",
    "NumPy arrays are used for feature vectors, matrix operations, and statistical computations in machine learning models."
   ]
  },
  {
   "cell_type": "code",
   "execution_count": 22,
   "id": "1e4b1d0b",
   "metadata": {},
   "outputs": [
    {
     "name": "stdout",
     "output_type": "stream",
     "text": [
      "Matrix product: [[19 22]\n",
      " [43 50]]\n"
     ]
    }
   ],
   "source": [
    "# Example of matrix multiplication\n",
    "matrix_a = np.array([[1, 2], [3, 4]])\n",
    "matrix_b = np.array([[5, 6], [7, 8]])\n",
    "product = np.dot(matrix_a, matrix_b)\n",
    "print(\"Matrix product:\", product)"
   ]
  },
  {
   "cell_type": "markdown",
   "id": "fe5d5ebe",
   "metadata": {},
   "source": [
    "#### Financial Analysis\n",
    "NumPy is used for financial calculations, such as risk assessments, and portfolio optimization."
   ]
  },
  {
   "cell_type": "code",
   "execution_count": 23,
   "id": "8c6bd3b0",
   "metadata": {},
   "outputs": [
    {
     "name": "stdout",
     "output_type": "stream",
     "text": [
      "Returns: [0.05       0.04761905 0.04545455]\n"
     ]
    }
   ],
   "source": [
    "# Example of calculating returns\n",
    "prices = np.array([100, 105, 110, 115])\n",
    "returns = np.diff(prices) / prices[:-1]\n",
    "print(\"Returns:\", returns)"
   ]
  },
  {
   "cell_type": "markdown",
   "id": "2bf75ff3",
   "metadata": {},
   "source": [
    "#### Scientific Research\n",
    "In scientific research, NumPy is used for data analysis, simulations, and modeling."
   ]
  },
  {
   "cell_type": "code",
   "execution_count": 24,
   "id": "73ee45e4",
   "metadata": {},
   "outputs": [
    {
     "name": "stdout",
     "output_type": "stream",
     "text": [
      "Random data: [ 0.58424332 -0.03322177 -1.00087097  2.12031501 -0.06670876  0.12240053\n",
      "  0.03651409  0.1454606  -0.38390724 -0.26665251]\n"
     ]
    }
   ],
   "source": [
    "# Example of simulating random data\n",
    "random_data = np.random.normal(loc=0, scale=1, size=1000)\n",
    "print(\"Random data:\", random_data[:10])\n"
   ]
  },
  {
   "cell_type": "code",
   "execution_count": 25,
   "id": "880620c8",
   "metadata": {},
   "outputs": [
    {
     "name": "stdout",
     "output_type": "stream",
     "text": [
      "Matrix product: [[19 22]\n",
      " [43 50]]\n",
      "Returns: [0.05       0.04761905 0.04545455]\n",
      "Random data: [ 1.58025794 -0.15385587 -0.4006139   0.90312774 -0.77717497 -0.15015452\n",
      "  0.21561123 -0.60174144 -0.06650711  1.38677188]\n"
     ]
    }
   ],
   "source": [
    "# Example of matrix multiplication\n",
    "matrix_a = np.array([[1, 2], [3, 4]])\n",
    "matrix_b = np.array([[5, 6], [7, 8]])\n",
    "product = np.dot(matrix_a, matrix_b)\n",
    "print(\"Matrix product:\", product)\n",
    "\n",
    "# Example of calculating returns\n",
    "prices = np.array([100, 105, 110, 115])\n",
    "returns = np.diff(prices) / prices[:-1]\n",
    "print(\"Returns:\", returns)\n",
    "\n",
    "# Example of simulating random data\n",
    "random_data = np.random.normal(loc=0, scale=1, size=1000)\n",
    "print(\"Random data:\", random_data[:10])\n"
   ]
  },
  {
   "cell_type": "markdown",
   "id": "15e627c0",
   "metadata": {},
   "source": [
    "## How NumPy is Used in Data Science\n",
    "\n",
    "NumPy is a powerful library in Python that helps with various tasks in data science. Here’s how it is commonly used:\n",
    "\n",
    "### 1. **Data Cleaning and Preparation**\n",
    "   - **Handling Missing Data**: NumPy helps find and fill in missing values in your data.\n",
    "   - **Feature Scaling**: It can adjust data to a common scale, which is important for many machine learning algorithms.\n",
    "\n",
    "### 2. **Working with Matrices**\n",
    "   - **Matrix Calculations**: NumPy allows you to perform calculations on matrices, like multiplying them or finding their properties.\n",
    "   - **Data Transformations**: You can easily apply changes to data matrices, like rotating or scaling them.\n",
    "\n",
    "### 3. **Simulations and Random Data**\n",
    "   - **Random Data Generation**: NumPy can create random numbers and simulate different scenarios, which is useful for statistical analysis.\n",
    "   - **Numerical Calculations**: It helps in performing complex calculations and solving equations.\n",
    "\n",
    "### 4. **Summarizing Data**\n",
    "   - **Descriptive Statistics**: You can quickly calculate average, median, and standard deviation to understand your data better.\n",
    "   - **Aggregating Data**: NumPy makes it easy to summarize large amounts of data.\n",
    "\n",
    "### 5. **Handling Large Datasets**\n",
    "   - **Speed and Efficiency**: NumPy arrays are faster and use less memory compared to regular Python lists, making it easier to work with large datasets.\n",
    "   - **Broadcasting**: You can perform operations on arrays of different sizes without using loops, which speeds up your code.\n",
    "\n",
    "### 6. **Machine Learning**\n",
    "   - **Data Preparation**: NumPy helps with organizing and preparing data for machine learning models.\n",
    "   - **Model Training**: Many machine learning libraries use NumPy arrays for training and testing models.\n",
    "\n",
    "### 7. **Scientific Research**\n",
    "   - **Data Visualization**: While NumPy itself doesn’t create plots, it works well with libraries like Matplotlib to visualize data.\n",
    "   - **Statistical Analysis**: You can use NumPy for analyzing data distributions and performing hypothesis tests.\n",
    "\n",
    "### 8. **Financial Analysis**\n",
    "   - **Analyzing Time Series**: NumPy helps analyze financial data over time, such as stock prices.\n",
    "   - **Risk Management**: It can calculate financial risks and analyze investment performance.\n",
    "\n",
    "### Summary\n",
    "NumPy is essential for data science because it handles large amounts of data quickly, performs complex calculations, and integrates well with other tools. Whether you’re preparing data, running simulations, or analyzing results, NumPy is a key part of the data science process."
   ]
  }
 ],
 "metadata": {
  "kernelspec": {
   "display_name": "Python 3",
   "language": "python",
   "name": "python3"
  },
  "language_info": {
   "codemirror_mode": {
    "name": "ipython",
    "version": 3
   },
   "file_extension": ".py",
   "mimetype": "text/x-python",
   "name": "python",
   "nbconvert_exporter": "python",
   "pygments_lexer": "ipython3",
   "version": "3.12.2"
  }
 },
 "nbformat": 4,
 "nbformat_minor": 5
}
